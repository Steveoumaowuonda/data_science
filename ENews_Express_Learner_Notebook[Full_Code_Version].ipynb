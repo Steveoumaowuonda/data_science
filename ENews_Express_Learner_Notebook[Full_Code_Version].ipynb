{
 "cells": [
  {
   "cell_type": "markdown",
   "metadata": {
    "id": "6yDxo9u0d9Na"
   },
   "source": [
    "# Project Business Statistics: E-news Express\n",
    "\n",
    "**Marks: 60**"
   ]
  },
  {
   "cell_type": "markdown",
   "metadata": {
    "id": "SrLd-ICEmPSD"
   },
   "source": [
    "## Define Problem Statement and Objectives"
   ]
  },
  {
   "cell_type": "markdown",
   "metadata": {
    "id": "9Vt1PLLqmXNn"
   },
   "source": [
    "E-new, an online news portal aims to expand its business by acquiring new subscribers. The company plans to analyze user interests to determine the effective features of the news portal by analyzing the time taken on the new and the old portal landing pages of the portal. The company surveyed 100 randomly selected users, speaking 3 major languages, that is English, French and Spanish. These two \n",
    "\n",
    "### Objectives\n",
    "\n",
    "Perform statistical analysis on the data set to determine if the new page is effective enough to gather new subscribers for the news portal by answering the following questions:\n",
    "\n",
    "<ol>\n",
    "  <li>Explore the dataset and extract insights using Exploratory Data Analysis.</li>\n",
    " \n",
    "  <li>Do the users spend more time on the new landing page than the existing landing page?</li>\n",
    "    \n",
    "  <li>Is the conversion rate (the proportion of users who visit the landing page and get converted) for the new page greater than the conversion rate for the old page?</li>\n",
    "    <li>Does the converted status depend on the preferred language? </li>\n",
    "    <li>Is the time spent on the new page same for the different language users?</li>\n",
    "</ol>\n",
    "\n",
    "\n",
    "\n",
    "\n",
    "\n",
    "\n",
    "\n",
    "\n",
    "\n",
    "\n"
   ]
  },
  {
   "cell_type": "markdown",
   "metadata": {
    "id": "a6a3d218"
   },
   "source": [
    "## Import all the necessary libraries"
   ]
  },
  {
   "cell_type": "code",
   "execution_count": 1,
   "metadata": {
    "id": "658c5dec"
   },
   "outputs": [],
   "source": [
    "import numpy as np # library used for working with arrays.\n",
    "import plotly.express as px\n",
    "import pandas as pd #library used for data manipulation and analysis\n",
    "from matplotlib import pyplot as plt # library for plots and visualisations\n",
    "import seaborn as sns# library for visualisations\n",
    "import scipy.stats as stats # this library contains a large number of probability distributions as well as a growing library of statistical functions.\n",
    "from scipy.stats import norm"
   ]
  },
  {
   "cell_type": "markdown",
   "metadata": {
    "id": "9d75cfa2"
   },
   "source": [
    "## 1. Explore the dataset and extract insights using Exploratory Data Analysis. (10 Marks)"
   ]
  },
  {
   "cell_type": "markdown",
   "metadata": {
    "id": "27201534"
   },
   "source": [
    "### Exploratory Data Analysis - Step by step approach\n",
    "\n",
    "Typical Data exploration activity consists of the following steps:\n",
    "1.\tImporting Data\n",
    "2.\tVariable Identification\n",
    "3.  Variable Transformation/Feature Creation\n",
    "4.  Missing value detection\n",
    "5.\tUnivariate Analysis\n",
    "6.\tBivariate Analysis"
   ]
  },
  {
   "cell_type": "markdown",
   "metadata": {
    "id": "6970dd99"
   },
   "source": [
    "### Reading the Data into a DataFrame"
   ]
  },
  {
   "cell_type": "code",
   "execution_count": 2,
   "metadata": {
    "id": "d3b95640"
   },
   "outputs": [],
   "source": [
    "# write the code for reading the dataset abtest.csv\n",
    "df=pd.read_csv(\"abtest.csv\")"
   ]
  },
  {
   "cell_type": "markdown",
   "metadata": {
    "id": "a4e471fd"
   },
   "source": [
    "### Data Overview\n",
    "- View a few rows of the data frame.\n",
    "- Check the shape and data types of the data frame. Add observations.\n",
    "- Fix the data-types (if needed).\n",
    "- Missing Value Check.\n",
    "- Summary statistics from the data frame. Add observations."
   ]
  },
  {
   "cell_type": "code",
   "execution_count": 3,
   "metadata": {
    "id": "e1ad11d4"
   },
   "outputs": [
    {
     "data": {
      "text/html": [
       "<div>\n",
       "<style scoped>\n",
       "    .dataframe tbody tr th:only-of-type {\n",
       "        vertical-align: middle;\n",
       "    }\n",
       "\n",
       "    .dataframe tbody tr th {\n",
       "        vertical-align: top;\n",
       "    }\n",
       "\n",
       "    .dataframe thead th {\n",
       "        text-align: right;\n",
       "    }\n",
       "</style>\n",
       "<table border=\"1\" class=\"dataframe\">\n",
       "  <thead>\n",
       "    <tr style=\"text-align: right;\">\n",
       "      <th></th>\n",
       "      <th>user_id</th>\n",
       "      <th>group</th>\n",
       "      <th>landing_page</th>\n",
       "      <th>time_spent_on_the_page</th>\n",
       "      <th>converted</th>\n",
       "      <th>language_preferred</th>\n",
       "    </tr>\n",
       "  </thead>\n",
       "  <tbody>\n",
       "    <tr>\n",
       "      <th>0</th>\n",
       "      <td>546592</td>\n",
       "      <td>control</td>\n",
       "      <td>old</td>\n",
       "      <td>3.48</td>\n",
       "      <td>no</td>\n",
       "      <td>Spanish</td>\n",
       "    </tr>\n",
       "    <tr>\n",
       "      <th>1</th>\n",
       "      <td>546468</td>\n",
       "      <td>treatment</td>\n",
       "      <td>new</td>\n",
       "      <td>7.13</td>\n",
       "      <td>yes</td>\n",
       "      <td>English</td>\n",
       "    </tr>\n",
       "    <tr>\n",
       "      <th>2</th>\n",
       "      <td>546462</td>\n",
       "      <td>treatment</td>\n",
       "      <td>new</td>\n",
       "      <td>4.40</td>\n",
       "      <td>no</td>\n",
       "      <td>Spanish</td>\n",
       "    </tr>\n",
       "    <tr>\n",
       "      <th>3</th>\n",
       "      <td>546567</td>\n",
       "      <td>control</td>\n",
       "      <td>old</td>\n",
       "      <td>3.02</td>\n",
       "      <td>no</td>\n",
       "      <td>French</td>\n",
       "    </tr>\n",
       "    <tr>\n",
       "      <th>4</th>\n",
       "      <td>546459</td>\n",
       "      <td>treatment</td>\n",
       "      <td>new</td>\n",
       "      <td>4.75</td>\n",
       "      <td>yes</td>\n",
       "      <td>Spanish</td>\n",
       "    </tr>\n",
       "  </tbody>\n",
       "</table>\n",
       "</div>"
      ],
      "text/plain": [
       "   user_id      group landing_page  time_spent_on_the_page converted  \\\n",
       "0   546592    control          old                    3.48        no   \n",
       "1   546468  treatment          new                    7.13       yes   \n",
       "2   546462  treatment          new                    4.40        no   \n",
       "3   546567    control          old                    3.02        no   \n",
       "4   546459  treatment          new                    4.75       yes   \n",
       "\n",
       "  language_preferred  \n",
       "0            Spanish  \n",
       "1            English  \n",
       "2            Spanish  \n",
       "3             French  \n",
       "4            Spanish  "
      ]
     },
     "execution_count": 3,
     "metadata": {},
     "output_type": "execute_result"
    }
   ],
   "source": [
    "df.head()"
   ]
  },
  {
   "cell_type": "code",
   "execution_count": 4,
   "metadata": {},
   "outputs": [
    {
     "data": {
      "text/plain": [
       "(100, 6)"
      ]
     },
     "execution_count": 4,
     "metadata": {},
     "output_type": "execute_result"
    }
   ],
   "source": [
    "df.shape"
   ]
  },
  {
   "cell_type": "code",
   "execution_count": 5,
   "metadata": {
    "scrolled": true
   },
   "outputs": [
    {
     "data": {
      "text/html": [
       "<div>\n",
       "<style scoped>\n",
       "    .dataframe tbody tr th:only-of-type {\n",
       "        vertical-align: middle;\n",
       "    }\n",
       "\n",
       "    .dataframe tbody tr th {\n",
       "        vertical-align: top;\n",
       "    }\n",
       "\n",
       "    .dataframe thead th {\n",
       "        text-align: right;\n",
       "    }\n",
       "</style>\n",
       "<table border=\"1\" class=\"dataframe\">\n",
       "  <thead>\n",
       "    <tr style=\"text-align: right;\">\n",
       "      <th></th>\n",
       "      <th>user_id</th>\n",
       "      <th>group</th>\n",
       "      <th>landing_page</th>\n",
       "      <th>time_spent_on_the_page</th>\n",
       "      <th>converted</th>\n",
       "      <th>language_preferred</th>\n",
       "    </tr>\n",
       "  </thead>\n",
       "  <tbody>\n",
       "    <tr>\n",
       "      <th>53</th>\n",
       "      <td>546576</td>\n",
       "      <td>control</td>\n",
       "      <td>old</td>\n",
       "      <td>4.71</td>\n",
       "      <td>no</td>\n",
       "      <td>Spanish</td>\n",
       "    </tr>\n",
       "    <tr>\n",
       "      <th>87</th>\n",
       "      <td>546480</td>\n",
       "      <td>treatment</td>\n",
       "      <td>new</td>\n",
       "      <td>3.68</td>\n",
       "      <td>no</td>\n",
       "      <td>French</td>\n",
       "    </tr>\n",
       "    <tr>\n",
       "      <th>15</th>\n",
       "      <td>546466</td>\n",
       "      <td>treatment</td>\n",
       "      <td>new</td>\n",
       "      <td>6.27</td>\n",
       "      <td>yes</td>\n",
       "      <td>Spanish</td>\n",
       "    </tr>\n",
       "    <tr>\n",
       "      <th>37</th>\n",
       "      <td>546557</td>\n",
       "      <td>control</td>\n",
       "      <td>old</td>\n",
       "      <td>6.04</td>\n",
       "      <td>yes</td>\n",
       "      <td>English</td>\n",
       "    </tr>\n",
       "    <tr>\n",
       "      <th>24</th>\n",
       "      <td>546456</td>\n",
       "      <td>treatment</td>\n",
       "      <td>new</td>\n",
       "      <td>6.18</td>\n",
       "      <td>no</td>\n",
       "      <td>Spanish</td>\n",
       "    </tr>\n",
       "  </tbody>\n",
       "</table>\n",
       "</div>"
      ],
      "text/plain": [
       "    user_id      group landing_page  time_spent_on_the_page converted  \\\n",
       "53   546576    control          old                    4.71        no   \n",
       "87   546480  treatment          new                    3.68        no   \n",
       "15   546466  treatment          new                    6.27       yes   \n",
       "37   546557    control          old                    6.04       yes   \n",
       "24   546456  treatment          new                    6.18        no   \n",
       "\n",
       "   language_preferred  \n",
       "53            Spanish  \n",
       "87             French  \n",
       "15            Spanish  \n",
       "37            English  \n",
       "24            Spanish  "
      ]
     },
     "execution_count": 5,
     "metadata": {},
     "output_type": "execute_result"
    }
   ],
   "source": [
    "df.sample(5)"
   ]
  },
  {
   "cell_type": "markdown",
   "metadata": {},
   "source": [
    "**Observations:**\n",
    "\n",
    "The DataFrame has 100 rows and 6 columns"
   ]
  },
  {
   "cell_type": "markdown",
   "metadata": {},
   "source": [
    "**check the data types of the columns in the data frame**"
   ]
  },
  {
   "cell_type": "code",
   "execution_count": 6,
   "metadata": {},
   "outputs": [
    {
     "name": "stdout",
     "output_type": "stream",
     "text": [
      "<class 'pandas.core.frame.DataFrame'>\n",
      "RangeIndex: 100 entries, 0 to 99\n",
      "Data columns (total 6 columns):\n",
      " #   Column                  Non-Null Count  Dtype  \n",
      "---  ------                  --------------  -----  \n",
      " 0   user_id                 100 non-null    int64  \n",
      " 1   group                   100 non-null    object \n",
      " 2   landing_page            100 non-null    object \n",
      " 3   time_spent_on_the_page  100 non-null    float64\n",
      " 4   converted               100 non-null    object \n",
      " 5   language_preferred      100 non-null    object \n",
      "dtypes: float64(1), int64(1), object(4)\n",
      "memory usage: 4.8+ KB\n"
     ]
    }
   ],
   "source": [
    "df.info()"
   ]
  },
  {
   "cell_type": "markdown",
   "metadata": {},
   "source": [
    "**Checking nulls and Nan**"
   ]
  },
  {
   "cell_type": "code",
   "execution_count": 7,
   "metadata": {},
   "outputs": [
    {
     "data": {
      "text/plain": [
       "user_id                   0\n",
       "group                     0\n",
       "landing_page              0\n",
       "time_spent_on_the_page    0\n",
       "converted                 0\n",
       "language_preferred        0\n",
       "dtype: int64"
      ]
     },
     "execution_count": 7,
     "metadata": {},
     "output_type": "execute_result"
    }
   ],
   "source": [
    "df.isna().sum()"
   ]
  },
  {
   "cell_type": "code",
   "execution_count": 8,
   "metadata": {},
   "outputs": [
    {
     "data": {
      "text/plain": [
       "0"
      ]
     },
     "execution_count": 8,
     "metadata": {},
     "output_type": "execute_result"
    }
   ],
   "source": [
    "df.duplicated().sum()"
   ]
  },
  {
   "cell_type": "code",
   "execution_count": 9,
   "metadata": {},
   "outputs": [
    {
     "data": {
      "text/plain": [
       "user_id                   0\n",
       "group                     0\n",
       "landing_page              0\n",
       "time_spent_on_the_page    0\n",
       "converted                 0\n",
       "language_preferred        0\n",
       "dtype: int64"
      ]
     },
     "execution_count": 9,
     "metadata": {},
     "output_type": "execute_result"
    }
   ],
   "source": [
    "df.isnull().sum()"
   ]
  },
  {
   "cell_type": "code",
   "execution_count": 10,
   "metadata": {},
   "outputs": [
    {
     "data": {
      "text/plain": [
       "array(['control', 'treatment'], dtype=object)"
      ]
     },
     "execution_count": 10,
     "metadata": {},
     "output_type": "execute_result"
    }
   ],
   "source": [
    "df['group'].unique()"
   ]
  },
  {
   "cell_type": "code",
   "execution_count": 11,
   "metadata": {},
   "outputs": [
    {
     "ename": "AttributeError",
     "evalue": "'numpy.ndarray' object has no attribute 'value_counts'",
     "output_type": "error",
     "traceback": [
      "\u001b[0;31m---------------------------------------------------------------------------\u001b[0m",
      "\u001b[0;31mAttributeError\u001b[0m                            Traceback (most recent call last)",
      "\u001b[0;32m<ipython-input-11-4e5ec9c90283>\u001b[0m in \u001b[0;36m<module>\u001b[0;34m\u001b[0m\n\u001b[0;32m----> 1\u001b[0;31m \u001b[0mdf\u001b[0m\u001b[0;34m[\u001b[0m\u001b[0;34m'group'\u001b[0m\u001b[0;34m]\u001b[0m\u001b[0;34m.\u001b[0m\u001b[0munique\u001b[0m\u001b[0;34m(\u001b[0m\u001b[0;34m)\u001b[0m\u001b[0;34m.\u001b[0m\u001b[0mvalue_counts\u001b[0m\u001b[0;34m(\u001b[0m\u001b[0;34m)\u001b[0m\u001b[0;34m\u001b[0m\u001b[0;34m\u001b[0m\u001b[0m\n\u001b[0m",
      "\u001b[0;31mAttributeError\u001b[0m: 'numpy.ndarray' object has no attribute 'value_counts'"
     ]
    }
   ],
   "source": [
    "df['group'].unique().value_counts()"
   ]
  },
  {
   "cell_type": "markdown",
   "metadata": {},
   "source": [
    "**Observations:**\n",
    "\n",
    "* The data set has neither nulls nor NaN values"
   ]
  },
  {
   "cell_type": "code",
   "execution_count": null,
   "metadata": {},
   "outputs": [],
   "source": [
    "#Convert the user_id column to category data type\n",
    "#Even though this has doubled the storage space used, it helps in sanitizing the data since statistical \n",
    "#summary will not be done on the user_id column\n",
    "#I made this decision because the storage space used is negligible\n",
    "df['user_id'] = df['user_id'].astype('category') "
   ]
  },
  {
   "cell_type": "code",
   "execution_count": null,
   "metadata": {},
   "outputs": [],
   "source": [
    "#To calculate the statistical summary\n",
    "pd.set_option('display.float_format', lambda x: '%.5f' % x)\n",
    "df.describe().T"
   ]
  },
  {
   "cell_type": "code",
   "execution_count": null,
   "metadata": {},
   "outputs": [],
   "source": [
    "df.describe(include=['float64']).T"
   ]
  },
  {
   "cell_type": "code",
   "execution_count": null,
   "metadata": {},
   "outputs": [],
   "source": [
    "df.describe(include=['category']).T"
   ]
  },
  {
   "cell_type": "markdown",
   "metadata": {},
   "source": [
    "**Mean time spent per group**"
   ]
  },
  {
   "cell_type": "code",
   "execution_count": null,
   "metadata": {},
   "outputs": [],
   "source": [
    "df.groupby(['group'])['time_spent_on_the_page'].mean()"
   ]
  },
  {
   "cell_type": "markdown",
   "metadata": {},
   "source": [
    "**Mean time and conversion status**"
   ]
  },
  {
   "cell_type": "code",
   "execution_count": null,
   "metadata": {
    "scrolled": true
   },
   "outputs": [],
   "source": [
    "df.groupby(['converted'])['time_spent_on_the_page'].mean()"
   ]
  },
  {
   "cell_type": "markdown",
   "metadata": {},
   "source": [
    "**Mean Time spent per prefered language**"
   ]
  },
  {
   "cell_type": "code",
   "execution_count": null,
   "metadata": {},
   "outputs": [],
   "source": [
    "df.groupby(['language_preferred'])['time_spent_on_the_page'].mean()"
   ]
  },
  {
   "cell_type": "markdown",
   "metadata": {},
   "source": [
    "**Observations:**\n",
    " \n",
    "* The mean time spent on the portals was 5.37780 minutes\n",
    "* Maximum time spent was 10.71000 while minimum was 0.19000, with a standard deviation of 2.37817\n",
    "* Mean time spent by treatment was 6.22320 minutes while control group was 4.53240 minutes \n",
    "* English speakers spent relatively more time on the portal, while Spa speakers spent the least average time on  the portal"
   ]
  },
  {
   "cell_type": "markdown",
   "metadata": {},
   "source": [
    "**Convert the Data Types to Category type to reduce storage usage**"
   ]
  },
  {
   "cell_type": "code",
   "execution_count": null,
   "metadata": {},
   "outputs": [],
   "source": [
    "df['group'] = df['group'].astype('category')\n",
    "df['landing_page'] = df['landing_page'].astype('category')\n",
    "df['converted'] = df['converted'].astype('category')\n",
    "df['language_preferred'] = df['language_preferred'].astype('category')"
   ]
  },
  {
   "cell_type": "code",
   "execution_count": null,
   "metadata": {},
   "outputs": [],
   "source": [
    "df.info()"
   ]
  },
  {
   "cell_type": "code",
   "execution_count": null,
   "metadata": {},
   "outputs": [],
   "source": [
    "#Check the unique values in user_id column\n",
    "df['user_id'].nunique()"
   ]
  },
  {
   "cell_type": "code",
   "execution_count": null,
   "metadata": {},
   "outputs": [],
   "source": [
    "#Counts for group totals\n",
    "df['group'].value_counts()"
   ]
  },
  {
   "cell_type": "code",
   "execution_count": null,
   "metadata": {},
   "outputs": [],
   "source": [
    "#Counts for landing_page\n",
    "df['landing_page'].value_counts()"
   ]
  },
  {
   "cell_type": "code",
   "execution_count": null,
   "metadata": {},
   "outputs": [],
   "source": [
    "#Counts for converted\n",
    "df['converted'].value_counts()"
   ]
  },
  {
   "cell_type": "code",
   "execution_count": null,
   "metadata": {},
   "outputs": [],
   "source": [
    "##language_preferred counts\n",
    "df['language_preferred'].value_counts()"
   ]
  },
  {
   "cell_type": "markdown",
   "metadata": {},
   "source": [
    "**Observations:**\n",
    "\n",
    "* There is exactly one entry for each user_id for each of the 100 users\n",
    "* The treatment and control group totals are 50 each\n",
    "* Value counts for old and new landing pages are 50 each\n",
    "* 54 users were converted to subscribers of the news portal\n",
    "* Out of the users the sample users, Spanish and French were 34 each, while English were 32"
   ]
  },
  {
   "cell_type": "markdown",
   "metadata": {
    "id": "68f3b2c9"
   },
   "source": [
    "### Univariate Analysis"
   ]
  },
  {
   "cell_type": "code",
   "execution_count": null,
   "metadata": {
    "id": "1932d0f3"
   },
   "outputs": [],
   "source": [
    "# function to plot a boxplot and a histogram along the same scale.\n",
    "\n",
    "def histogram_boxplot(data, feature, figsize=(12, 7), kde=False, bins=None):\n",
    "    \"\"\"\n",
    "    Boxplot and histogram combined\n",
    "\n",
    "    data: dataframe\n",
    "    feature: dataframe column\n",
    "    figsize: size of figure (default (12,7))\n",
    "    kde: whether to show the density curve (default False)\n",
    "    bins: number of bins for histogram (default None)\n",
    "    \"\"\"\n",
    "    f2, (ax_box2, ax_hist2) = plt.subplots(\n",
    "        nrows=2,  # Number of rows of the subplot grid= 2\n",
    "        sharex=True,  # x-axis will be shared among all subplots\n",
    "        gridspec_kw={\"height_ratios\": (0.25, 0.75)},\n",
    "        figsize=figsize,\n",
    "    )  # creating the 2 subplots\n",
    "    sns.boxplot(\n",
    "        data=data, x=feature, ax=ax_box2, showmeans=True, color=\"violet\"\n",
    "    )  # boxplot will be created and a star will indicate the mean value of the column\n",
    "    sns.histplot(\n",
    "        data=data, x=feature, kde=kde, ax=ax_hist2, bins=bins, palette=\"winter\"\n",
    "    ) if bins else sns.histplot(\n",
    "        data=data, x=feature, kde=kde, ax=ax_hist2\n",
    "    )  # For histogram\n",
    "    ax_hist2.axvline(\n",
    "        data[feature].mean(), color=\"green\", linestyle=\"--\"\n",
    "    )  # Add mean to the histogram\n",
    "    ax_hist2.axvline(\n",
    "        data[feature].median(), color=\"black\", linestyle=\"-\"\n",
    "    )  # Add median to the histogram"
   ]
  },
  {
   "cell_type": "code",
   "execution_count": null,
   "metadata": {},
   "outputs": [],
   "source": [
    "histogram_boxplot(df, 'time_spent_on_the_page')"
   ]
  },
  {
   "cell_type": "markdown",
   "metadata": {},
   "source": [
    "**Observations:**\n",
    "\n",
    "* From the plot above, the mean and median for time_spent_on_the_page are almost equal, and therefore the distribution is close to normal\n",
    "\n",
    "* There are no outliers in the data set"
   ]
  },
  {
   "cell_type": "code",
   "execution_count": null,
   "metadata": {
    "id": "2fce6350"
   },
   "outputs": [],
   "source": [
    "# function to create labeled barplots\n",
    "\n",
    "\n",
    "def labeled_barplot(data, feature, perc=False, n=None):\n",
    "    \"\"\"\n",
    "    Barplot with percentage at the top\n",
    "\n",
    "    data: dataframe\n",
    "    feature: dataframe column\n",
    "    perc: whether to display percentages instead of count (default is False)\n",
    "    n: displays the top n category levels (default is None, i.e., display all levels)\n",
    "    \"\"\"\n",
    "\n",
    "    total = len(data[feature])  # length of the column\n",
    "    count = data[feature].nunique()\n",
    "    if n is None:\n",
    "        plt.figure(figsize=(count + 1, 5))\n",
    "    else:\n",
    "        plt.figure(figsize=(n + 1, 5))\n",
    "\n",
    "    plt.xticks(rotation=90, fontsize=15)\n",
    "    ax = sns.countplot(data=data, x=feature, palette=\"Paired\", order=data[feature].value_counts().index[:n].sort_values())\n",
    "\n",
    "    for p in ax.patches:\n",
    "        if perc == True:\n",
    "            label = \"{:.1f}%\".format(100 * p.get_height() / total)  # percentage of each class of the category\n",
    "        else:\n",
    "            label = p.get_height()  # count of each level of the category\n",
    "\n",
    "        x = p.get_x() + p.get_width() / 2  # width of the plot\n",
    "        y = p.get_height()      # height of the plot\n",
    "\n",
    "        ax.annotate(label, (x, y), ha=\"center\", va=\"center\", size=12, xytext=(0, 5), textcoords=\"offset points\")  # annotate the percentage\n",
    "\n",
    "    plt.show()  # show the plot"
   ]
  },
  {
   "cell_type": "markdown",
   "metadata": {},
   "source": [
    "**Barplot of the groups**"
   ]
  },
  {
   "cell_type": "code",
   "execution_count": null,
   "metadata": {},
   "outputs": [],
   "source": [
    "plt.figure(figsize=(20,15))\n",
    "labeled_barplot(df, 'group', perc=True);"
   ]
  },
  {
   "cell_type": "markdown",
   "metadata": {},
   "source": [
    "**Barplot of Landing Page**"
   ]
  },
  {
   "cell_type": "code",
   "execution_count": null,
   "metadata": {},
   "outputs": [],
   "source": [
    "plt.figure(figsize=(20,15))\n",
    "labeled_barplot(df, 'landing_page', perc=True);"
   ]
  },
  {
   "cell_type": "markdown",
   "metadata": {},
   "source": [
    "**Barplot of Converted vs Not Converted**"
   ]
  },
  {
   "cell_type": "code",
   "execution_count": null,
   "metadata": {},
   "outputs": [],
   "source": [
    "plt.figure(figsize=(20,15))\n",
    "labeled_barplot(df, 'converted', perc=True);"
   ]
  },
  {
   "cell_type": "markdown",
   "metadata": {},
   "source": [
    "**Pie Plot of the Preferred Languages**"
   ]
  },
  {
   "cell_type": "code",
   "execution_count": null,
   "metadata": {},
   "outputs": [],
   "source": [
    "#plt.figure(figsize=(20,15));\n",
    "#labeled_barplot(df, 'language_preferred', perc=True);\n",
    "\n",
    "df.groupby(['language_preferred']).sum().plot(kind='pie', subplots=True, shadow = True,startangle=90,\n",
    "figsize=(6,6), autopct='%1.1f%%');\n",
    "plt.title(\"Pie Plot of the Preferred Languages\");"
   ]
  },
  {
   "cell_type": "markdown",
   "metadata": {},
   "source": [
    "**Observations:**\n",
    "\n",
    "* There are two groups, and the number of participants is equal at 50 in each group\n",
    "* The two groups were assigned equally to the landing pages, at 50 each\n",
    "* Out of the people who tested the new portal, French and Spanish were 34 each.\n",
    "* 54% of the participants were converted; 33 out of those who visited the new page were converted while 21 of those who visited the old page were converted."
   ]
  },
  {
   "cell_type": "markdown",
   "metadata": {
    "id": "fad2de2f"
   },
   "source": [
    "### Bivariate Analysis"
   ]
  },
  {
   "cell_type": "markdown",
   "metadata": {
    "id": "58e9a1d0"
   },
   "source": [
    "**Language Preferred vs Time spent on the page**"
   ]
  },
  {
   "cell_type": "code",
   "execution_count": null,
   "metadata": {},
   "outputs": [],
   "source": [
    "# Relationship between cost of the order and cuisine type\n",
    "plt.figure(figsize=(15,7))\n",
    "sns.boxplot(x = \"language_preferred\", y = \"time_spent_on_the_page\", data = df, palette = 'PuBu')\n",
    "#plt.xticks(rotation = 60)\n",
    "plt.show()"
   ]
  },
  {
   "cell_type": "markdown",
   "metadata": {},
   "source": [
    "**Observations**\n",
    "\n",
    "* Spanish speakers had one outlier in time spent on the page"
   ]
  },
  {
   "cell_type": "markdown",
   "metadata": {},
   "source": [
    "**Time spent on the page vs landing page**"
   ]
  },
  {
   "cell_type": "code",
   "execution_count": null,
   "metadata": {},
   "outputs": [],
   "source": [
    "plt.figure(figsize=(9, 9))\n",
    "sns.histplot(data = df, x = 'time_spent_on_the_page', hue = 'landing_page')\n",
    "plt.title(\"Time spent on the page vs landing page\")\n",
    "plt.show()"
   ]
  },
  {
   "cell_type": "markdown",
   "metadata": {},
   "source": [
    "**Observations**\n",
    "\n",
    "* Generally, more time was spent on the new portal than on the old portal"
   ]
  },
  {
   "cell_type": "markdown",
   "metadata": {},
   "source": [
    "**Conversion status vs Time spent on the page**"
   ]
  },
  {
   "cell_type": "code",
   "execution_count": null,
   "metadata": {},
   "outputs": [],
   "source": [
    "plt.figure(figsize=(10,7))\n",
    "sns.barplot(x='converted', y='time_spent_on_the_page', hue='language_preferred', data=df,ci=False)\n",
    "#sns.barplot(df['cuisine_type'],df['total_time'], hue=df['day_of_the_week']);\n",
    "#plt.xticks(rotation=90)\n",
    "plt.title(\"Conversion status vs Time spent on the page\")\n",
    "plt.show()"
   ]
  },
  {
   "cell_type": "code",
   "execution_count": null,
   "metadata": {},
   "outputs": [],
   "source": [
    "#Get the value mean time spent on the page per language\n",
    "df.groupby(['language_preferred','converted'])['time_spent_on_the_page'].mean()"
   ]
  },
  {
   "cell_type": "code",
   "execution_count": null,
   "metadata": {},
   "outputs": [],
   "source": [
    "#Get the value counts of converted/not converted per language\n",
    "df.groupby(['language_preferred'])['converted'].value_counts()"
   ]
  },
  {
   "cell_type": "code",
   "execution_count": null,
   "metadata": {},
   "outputs": [],
   "source": [
    "#df_converted=df.groupby(['language_preferred'])['converted'].value_counts()\n",
    "plt.figure(figsize=(10, 7))\n",
    "sns.histplot(data = df, x = 'language_preferred', hue = 'converted',multiple=\"stack\")\n",
    "plt.title(\"Converted count per preferred language\")\n",
    "plt.show()"
   ]
  },
  {
   "cell_type": "code",
   "execution_count": null,
   "metadata": {},
   "outputs": [],
   "source": [
    "#Get the mean time spent on the page per language \n",
    "df.groupby(['language_preferred'])['time_spent_on_the_page'].mean()"
   ]
  },
  {
   "cell_type": "markdown",
   "metadata": {},
   "source": [
    "**Observations**\n",
    "\n",
    "* English had the highest number of converted (21), followed by Spanish at 18 and lastly French at 15.\n",
    "\n",
    "* Out of those not converted, French registered the highest (19), followed by Spanish and then English at 16 and 11 respectively.\n",
    "\n",
    "* French speakers spent the least average time on the portal, but were the highest converted"
   ]
  },
  {
   "cell_type": "markdown",
   "metadata": {},
   "source": [
    "**Preferred language vs Time spent on the page**"
   ]
  },
  {
   "cell_type": "code",
   "execution_count": null,
   "metadata": {},
   "outputs": [],
   "source": [
    "plt.figure(figsize=(10,7))\n",
    "sns.barplot(x='language_preferred', y='time_spent_on_the_page', hue='converted', data=df,ci=False)\n",
    "#sns.barplot(df['cuisine_type'],df['total_time'], hue=df['day_of_the_week']);\n",
    "#plt.xticks(rotation=90)\n",
    "plt.title(\"Preferred language vs Time spent on the page\")\n",
    "plt.show()"
   ]
  },
  {
   "cell_type": "code",
   "execution_count": null,
   "metadata": {},
   "outputs": [],
   "source": [
    "#Describe the mean time spent on the page by the converted participants\n",
    "df_converted=df[df['converted']=='yes']\n",
    "df_converted.describe().T"
   ]
  },
  {
   "cell_type": "code",
   "execution_count": null,
   "metadata": {},
   "outputs": [],
   "source": [
    "#Describe the mean time spent on the page by the non-converted participants\n",
    "df_not_conv=df[df['converted']=='no']\n",
    "df_not_conv.describe().T"
   ]
  },
  {
   "cell_type": "markdown",
   "metadata": {},
   "source": [
    "**Observations**\n",
    "\n",
    "* Among those converted, the French speakers spent the highest average time on the portal (7.01600 minutes)  while Spanish spent the least (6.46889 minutes)\n",
    "* The converted participants generally spent more time on the portal than the ones who were not converted. The mean time spent on the portal by those converted was 6.62315 minutes, while the mean for those not converted was 3.91587 minutes."
   ]
  },
  {
   "cell_type": "markdown",
   "metadata": {},
   "source": [
    "**Density plots for Converted and Language Preferred**"
   ]
  },
  {
   "cell_type": "code",
   "execution_count": null,
   "metadata": {},
   "outputs": [],
   "source": [
    "sns.displot(df, x=\"time_spent_on_the_page\", hue=\"converted\", kind=\"kde\", multiple=\"stack\")\n",
    "plt.title(\"Displot for Converted\")"
   ]
  },
  {
   "cell_type": "code",
   "execution_count": null,
   "metadata": {
    "scrolled": true
   },
   "outputs": [],
   "source": [
    "sns.displot(df, x=\"time_spent_on_the_page\", hue=\"language_preferred\", kind=\"kde\",fill=True)\n",
    "plt.title(\"Displot for Preferred Language\")"
   ]
  },
  {
   "cell_type": "code",
   "execution_count": null,
   "metadata": {},
   "outputs": [],
   "source": [
    "#!pip install plotly_express\n",
    "import plotly_express as px\n",
    "px.histogram(data_frame=df, x='time_spent_on_the_page', color='landing_page')"
   ]
  },
  {
   "cell_type": "markdown",
   "metadata": {
    "id": "27906576"
   },
   "source": [
    "## 2. Do the users spend more time on the new landing page than the existing landing page? (10 Marks)"
   ]
  },
  {
   "cell_type": "markdown",
   "metadata": {
    "id": "e5fdf0c8"
   },
   "source": [
    "### Perform Visual Analysis"
   ]
  },
  {
   "cell_type": "code",
   "execution_count": null,
   "metadata": {
    "id": "6eZJa41eg21n",
    "scrolled": true
   },
   "outputs": [],
   "source": [
    "# visual analysis of the time spent on the new page\n",
    "# and the time spent on the old page\n",
    "plt.figure(figsize=(8,6))\n",
    "sns.boxplot(x = 'landing_page', y = 'time_spent_on_the_page', data = df)\n",
    "plt.title(\"Time spent on new and old landing page\")\n",
    "plt.grid()\n",
    "plt.show()"
   ]
  },
  {
   "cell_type": "markdown",
   "metadata": {},
   "source": [
    "**Observations:**\n",
    "\n",
    "* New portal recorded a higer mean time spent on the landing page than the old one\n",
    "* The new portal had outliers on both ends"
   ]
  },
  {
   "cell_type": "markdown",
   "metadata": {
    "id": "56b3dafd"
   },
   "source": [
    "### Step 1: Define the null and alternate hypotheses"
   ]
  },
  {
   "cell_type": "markdown",
   "metadata": {
    "id": "d2ac77ef"
   },
   "source": [
    "\n",
    "We will test the null hypothesis\n",
    "\n",
    ">$H_0:$ Users spend equal time on the new landing page as on the old one\n",
    "\n",
    "against the alternative hypothesis\n",
    "\n",
    ">$H_a:$ Users don't spend equal time on the new landing page as on the old one"
   ]
  },
  {
   "cell_type": "markdown",
   "metadata": {
    "id": "c7ee4907"
   },
   "source": [
    "### Step 2: Select Appropriate test"
   ]
  },
  {
   "cell_type": "markdown",
   "metadata": {
    "id": "2c183cd7"
   },
   "source": [
    "* This is a continuous data; the time taken on each landing page is measured on a continuous scale\n",
    "* I assume both populatiosn to be normally distributed\n",
    "* There are two independent populations\n",
    "* The population standard deviations are unknown\n",
    "* This is a one-tailed test of two population means\n",
    "* The samples were randomly selected\n",
    "\n",
    "Based on these assumptions, I will use **T-test**"
   ]
  },
  {
   "cell_type": "markdown",
   "metadata": {
    "id": "3f58c9a7"
   },
   "source": [
    "### Step 3: Decide the significance level"
   ]
  },
  {
   "cell_type": "markdown",
   "metadata": {},
   "source": [
    "* In the problem statement, a significance level 0f 0.05 is suggested for all tests, therefore I will take my  α = 0.05"
   ]
  },
  {
   "cell_type": "markdown",
   "metadata": {
    "id": "5fed2eac"
   },
   "source": [
    "### Step 4: Collect and prepare data"
   ]
  },
  {
   "cell_type": "code",
   "execution_count": null,
   "metadata": {
    "id": "f5a59495"
   },
   "outputs": [],
   "source": [
    "#subset the time spent on each landing page\n",
    "total_time_spent_on_new_LP = df[df['landing_page'] == 'new']['time_spent_on_the_page']\n",
    "# create subsetted data frame for old landing page users\n",
    "total_time_spent_on_old_LP =df[df['landing_page'] == 'old']['time_spent_on_the_page']\n"
   ]
  },
  {
   "cell_type": "code",
   "execution_count": null,
   "metadata": {},
   "outputs": [],
   "source": [
    "#calculate standard deviations for each\n",
    "\n",
    "std_new=round(total_time_spent_on_new_LP.std(),2)\n",
    "std_old=round(total_time_spent_on_old_LP.std(),2)\n",
    "\n",
    "#Print the stds\n",
    "\n",
    "print(\"The sample standard deviation of time spent on new landing page is {}\\nWhile for old landing page is {}\".format\n",
    "     (std_new,std_old))"
   ]
  },
  {
   "cell_type": "markdown",
   "metadata": {},
   "source": [
    "**Observations**\n",
    "\n",
    "* The new landing page has a higher standard deviation than the old landing page, implying that the data for the old landing page is clustered around the mean, while that of the new landing page is more spread out"
   ]
  },
  {
   "cell_type": "markdown",
   "metadata": {
    "id": "f5c5258d"
   },
   "source": [
    "### Step 5: Calculate the p-value"
   ]
  },
  {
   "cell_type": "code",
   "execution_count": null,
   "metadata": {},
   "outputs": [],
   "source": [
    "#Segment the data into the old and new landing pages\n",
    "time_spent_on_new=df[df['landing_page']=='new']\n",
    "time_spent_on_old=df[df['landing_page']=='old']"
   ]
  },
  {
   "cell_type": "code",
   "execution_count": null,
   "metadata": {
    "id": "fac8594a"
   },
   "outputs": [],
   "source": [
    "#Import the required functions\n",
    "from scipy.stats import ttest_ind\n",
    "\n",
    "#Calculate the p-value\n",
    "\n",
    "test_stat,p_value=ttest_ind(time_spent_on_new['time_spent_on_the_page'],time_spent_on_old['time_spent_on_the_page'], equal_var=False, alternative='greater')\n",
    "print('The p-value is {}'.format(p_value))"
   ]
  },
  {
   "cell_type": "markdown",
   "metadata": {
    "id": "359b12f8"
   },
   "source": [
    "### Step 6: Compare the p-value with $\\alpha$"
   ]
  },
  {
   "cell_type": "markdown",
   "metadata": {
    "id": "7be47289"
   },
   "source": [
    "The p-value is 0.0001392381225166549, less than $\\alpha$ = 0.05 and therefore we reject the null hypothesis, implying we have enough statistical evidence that the users don't spend equal time on the new landing page as on the old one"
   ]
  },
  {
   "cell_type": "markdown",
   "metadata": {
    "id": "d9affc84"
   },
   "source": [
    "### Step 7:  Draw inference"
   ]
  },
  {
   "cell_type": "markdown",
   "metadata": {
    "id": "6b16dd4b"
   },
   "source": [
    "Since the p-value of 0.0001392381225166549 is much less than the 5%, we reject the null hypothesis, so we don't have sufficient evidence that users spend same time on the new landing page as on the old one"
   ]
  },
  {
   "cell_type": "markdown",
   "metadata": {
    "id": "353e9d24"
   },
   "source": [
    "## 3. Is the conversion rate (the proportion of users who visit the landing page and get converted) for the new page greater than the conversion rate for the old page? (10 Marks)"
   ]
  },
  {
   "cell_type": "markdown",
   "metadata": {},
   "source": [
    "###  <u>Visual Analysis</u>"
   ]
  },
  {
   "cell_type": "code",
   "execution_count": null,
   "metadata": {
    "id": "b7f52898"
   },
   "outputs": [],
   "source": [
    "#Get the value counts of conversion rate\n",
    "#converted=df[df['converted']=='yes']\n",
    "df.groupby(['landing_page'])['converted'].value_counts()"
   ]
  },
  {
   "cell_type": "markdown",
   "metadata": {},
   "source": [
    "**Plotting a count plot of the conversion rates for new and old laanding pages**"
   ]
  },
  {
   "cell_type": "code",
   "execution_count": null,
   "metadata": {},
   "outputs": [],
   "source": [
    "# importing the required library\n",
    "import seaborn as sns\n",
    "import matplotlib.pyplot as plt\n",
    "\n",
    "converted=df[df['converted']=='yes']\n",
    "plt.figure(figsize=(6,6))\n",
    "#sns.countplot(x ='landing_page', hue = \"converted\", data = df)\n",
    "sns.countplot(x ='landing_page', data = converted)\n",
    "plt.title(\"Conversion rates of old and new landing pages\") \n",
    "# Show the plot\n",
    "plt.show()"
   ]
  },
  {
   "cell_type": "markdown",
   "metadata": {},
   "source": [
    "### Defining the null and alternate hypotheses:\n",
    "\n",
    "We will test the null hypothesis\n",
    "\n",
    ">$H_0:$ Conversion rate for the new page and that of the old page are equal\n",
    "\n",
    "against the alternative hypothesis\n",
    "\n",
    ">$H_a:$ Conversion rate for the new page and that of the old page are not equal"
   ]
  },
  {
   "cell_type": "markdown",
   "metadata": {},
   "source": [
    "### Selecting the Appropriate test\n",
    "\n",
    "* The population is binomially distributed, i.e, converted is either yes/no\n",
    "* The populations are independent\n",
    "* The samples were randomly selected \n",
    "\n",
    "Based on the characteristics above, I will use **Two-proportions z-test**"
   ]
  },
  {
   "cell_type": "markdown",
   "metadata": {},
   "source": [
    "### Decide the significance level\n",
    "\n",
    "* In the problem statement, a significance level 0f 0.05 is suggested for all tests, therefore I will take my α = 0.05"
   ]
  },
  {
   "cell_type": "code",
   "execution_count": null,
   "metadata": {},
   "outputs": [],
   "source": [
    "##Calculate the number of converted users in the treatment group\n",
    "new_converted = df[df['group'] == 'treatment']['converted'].value_counts()['yes']\n",
    "# calculate the number of converted users in the control group\n",
    "old_converted =  df[df['group'] == 'control']['converted'].value_counts()['yes']"
   ]
  },
  {
   "cell_type": "markdown",
   "metadata": {},
   "source": [
    "### Calculate the p-value"
   ]
  },
  {
   "cell_type": "code",
   "execution_count": null,
   "metadata": {},
   "outputs": [],
   "source": [
    "from statsmodels.stats.proportion import proportions_ztest\n",
    "#set the counts of converted in each landing page\n",
    "converted_counts=np.array([new_converted,old_converted])\n",
    "\n",
    "nobs=np.array([df[df['group']=='treatment'].value_counts().sum(),df[df['group']=='control'].value_counts().sum()])\n",
    "\n",
    "#Print the proportions of conversion\n",
    "old_conv_rate=old_converted/df[df['group']=='control'].value_counts().sum()\n",
    "new_conv_rate=new_converted/df[df['group']=='treatment'].value_counts().sum()\n",
    "\n",
    "print(\"The proportion of conversion for old and new landing pages are {0} and {1} respectively \\n\".format\n",
    "      (round(old_conv_rate,2),round(new_conv_rate,2)))\n",
    "#Find the p-value\n",
    "test_stat, p_value = proportions_ztest(converted_counts,nobs)\n",
    "\n",
    "print('The p-value is {}\\n'.format(p_value))\n",
    "\n",
    "# print the conclusion based on p-value\n",
    "if p_value < 0.05:\n",
    "    print(f'As the p-value {p_value} is less than the level of significance, we reject the null hypothesis.')\n",
    "else:\n",
    "    print(f'As the p-value {p_value} is greater than the level of significance, we fail to reject the null hypothesis.')"
   ]
  },
  {
   "cell_type": "markdown",
   "metadata": {},
   "source": [
    "**Inference**\n",
    "\n",
    "* Since the p-value of 0.016052616408112556 is much smaller than the 5% significance level, we reject the null hypothesis. We therefore have enough statistical evidence to say that the conversion rate for the new page and that of the old page are not equal\n"
   ]
  },
  {
   "cell_type": "markdown",
   "metadata": {
    "id": "d49bfa2d"
   },
   "source": [
    "## 4. Is the conversion and preferred language are independent or related? (10 Marks)"
   ]
  },
  {
   "cell_type": "markdown",
   "metadata": {},
   "source": [
    "**To test independence of variables, I will perform a chi-square test of independence**\n",
    "\n",
    "Below are my assumptions which must be met for the test:\n",
    "\n",
    "* The preferred language and conversion are categorical variables\n",
    "* There are at least 5 sample observations in each level\n",
    "* The samples were randomly selected\n",
    "\n",
    "**My hypotheses:**\n",
    "\n",
    "We will test the null hypothesis\n",
    "\n",
    ">$H_0:$ Conversion is independent of preferred language\n",
    "\n",
    "against the alternative hypothesis\n",
    "\n",
    ">$H_a:$ Conversion depends on the preferred language"
   ]
  },
  {
   "cell_type": "markdown",
   "metadata": {},
   "source": [
    "**Create a contingency table of the two variables:**"
   ]
  },
  {
   "cell_type": "code",
   "execution_count": null,
   "metadata": {},
   "outputs": [],
   "source": [
    "data_crosstab = pd.crosstab(df['language_preferred'],\n",
    "                            df['converted'], \n",
    "                               margins = False)\n",
    "data_crosstab"
   ]
  },
  {
   "cell_type": "code",
   "execution_count": null,
   "metadata": {},
   "outputs": [],
   "source": []
  },
  {
   "cell_type": "markdown",
   "metadata": {},
   "source": [
    "**Calculate the p_value**"
   ]
  },
  {
   "cell_type": "code",
   "execution_count": null,
   "metadata": {},
   "outputs": [],
   "source": [
    "#import the required function\n",
    "from scipy.stats import chi2_contingency\n",
    "#find the p_value\n",
    "chi,p_value, dof,expected=chi2_contingency(data_crosstab, correction=False)\n",
    "print('The p_value is {}\\n'.format(p_value))\n",
    "\n",
    "# print the conclusion based on p-value\n",
    "if p_value < 0.05:\n",
    "    print(f'As the p-value {p_value} is less than the level of significance, we reject the null hypothesis.')\n",
    "else:\n",
    "    print(f'As the p-value {p_value} is greater than the level of significance, we fail to reject the null hypothesis.')"
   ]
  },
  {
   "cell_type": "markdown",
   "metadata": {},
   "source": [
    "### Insight\n",
    "\n",
    "* As the p_values is more than the significance level, we fail to reject the null hypothesis. Hence we do not have enough statistical evidence to conclude that conversion is not independent of preferred language at 5% significance level."
   ]
  },
  {
   "cell_type": "markdown",
   "metadata": {
    "id": "8d585a90"
   },
   "source": [
    "## 5. Is the time spent on the new page same for the different language users? (10 Marks)"
   ]
  },
  {
   "cell_type": "markdown",
   "metadata": {},
   "source": [
    "### <u> Visual Analysis: </u>"
   ]
  },
  {
   "cell_type": "code",
   "execution_count": null,
   "metadata": {},
   "outputs": [],
   "source": [
    "#segment data to get only records for the new landing page\n",
    "new_landing_page=df[df['landing_page']=='new']"
   ]
  },
  {
   "cell_type": "code",
   "execution_count": null,
   "metadata": {},
   "outputs": [],
   "source": [
    "plt.figure(figsize=(4,7))\n",
    "sns.barplot(x='language_preferred', y='time_spent_on_the_page', data=new_landing_page,ci=False)\n",
    "#sns.barplot(df['cuisine_type'],df['total_time'], hue=df['day_of_the_week']);\n",
    "#plt.xticks(rotation=90)\n",
    "plt.title(\"Brplot of Preferred language vs Mean Time spent on the New Page\")\n",
    "plt.show()"
   ]
  },
  {
   "cell_type": "code",
   "execution_count": null,
   "metadata": {},
   "outputs": [],
   "source": [
    "import seaborn as sns\n",
    "\n",
    "sns.boxplot(x='language_preferred', y='time_spent_on_the_page', data=new_landing_page)\n",
    "plt.grid()\n",
    "plt.title(\"Boxplot of preferred language vs time spent on the new landing page\")\n",
    "plt.show()"
   ]
  },
  {
   "cell_type": "code",
   "execution_count": null,
   "metadata": {},
   "outputs": [],
   "source": [
    "#Calculate the mean time spent on the new page per language preferred\n",
    "new_landing_page.groupby(['language_preferred'])['time_spent_on_the_page'].mean().sort_values(ascending = False)"
   ]
  },
  {
   "cell_type": "markdown",
   "metadata": {},
   "source": [
    "**Insights:**\n",
    "\n",
    "* English speakers spent more average time on the new page (6.66375 minutes), followed by French (6.19647) and lastly Spanish (5.83529)"
   ]
  },
  {
   "cell_type": "markdown",
   "metadata": {},
   "source": [
    "### Testing the hypotheses\n",
    "\n",
    "<u>**Hypotheses**</u>\n",
    "\n",
    ">$H_0:$ Mean time spent on the new page is the same for users of the different languages\n",
    "\n",
    "against the alternative hypothesis\n",
    "\n",
    ">$H_a:$ Mean time spent on the new page is not the same for users of the different languages"
   ]
  },
  {
   "cell_type": "markdown",
   "metadata": {},
   "source": [
    "### Selecting the Appropriate test\n",
    "* To test whether the mean time spent by speakers of the different languages is the same, I will to a one-way ANOVA test to compare various means: \n",
    "\n",
    "* I will be testing the normality and variance of three different population means, i.e the mean time spent on the new page for English, French and Spanish speakers\n",
    "\n",
    "* For testing of normality, Shapiro-Wilk’s test is applied to the response variable.\n",
    "\n",
    "* For equality of variance, Levene test is applied to the response variable.\n",
    "\n",
    "\n",
    "### Shapiro-Wilk’s test\n",
    "\n",
    "We will test the null hypothesis\n",
    "\n",
    ">$H_0:$ Time spent on the new page follows a normal distribution\n",
    "\n",
    "against the alternative hypothesis\n",
    "\n",
    ">$H_a:$ Time spent on the new page does not follow a normal distribution"
   ]
  },
  {
   "cell_type": "code",
   "execution_count": null,
   "metadata": {},
   "outputs": [],
   "source": [
    "# Assumption 1: Normality\n",
    "# import the required function\n",
    "from scipy.stats import shapiro\n",
    "\n",
    "# find the p-value\n",
    "w, p_value = shapiro(new_landing_page['time_spent_on_the_page']) \n",
    "print('The p-value is', p_value)"
   ]
  },
  {
   "cell_type": "markdown",
   "metadata": {},
   "source": [
    "**Observation:**\n",
    "\n",
    "* Since p-value of the test is very large compared to 5% significance level, we fail to reject the null hypothesis that the response follows the normal distribution."
   ]
  },
  {
   "cell_type": "markdown",
   "metadata": {},
   "source": [
    "### Levene’s test\n",
    "\n",
    "We will test the null hypothesis\n",
    "\n",
    ">$H_0$: English, French and Spanish speakers all have the same mean time spent on the new page\n",
    "\n",
    "against the alternative hypothesis\n",
    "\n",
    ">$H_a$: At least one mean is different from the rest"
   ]
  },
  {
   "cell_type": "code",
   "execution_count": null,
   "metadata": {},
   "outputs": [],
   "source": [
    "#Assumption 2: Homogeneity of Variance\n",
    "#import the required function\n",
    "from scipy.stats import levene\n",
    "statistic, p_value = levene( new_landing_page[new_landing_page['language_preferred']==\"English\"]['time_spent_on_the_page'], \n",
    "                             new_landing_page[new_landing_page['language_preferred']==\"French\"]['time_spent_on_the_page'], \n",
    "                             new_landing_page[new_landing_page['language_preferred']==\"Spanish\"]['time_spent_on_the_page'])\n",
    "# find the p-value\n",
    "print('The p-value is', p_value)"
   ]
  },
  {
   "cell_type": "markdown",
   "metadata": {},
   "source": [
    "**Observation**\n",
    "\n",
    "* Since the p-value of 0.46711357711340173 is large than the 5% significance level, we fail to reject the null hypothesis of homogeneity of variances."
   ]
  },
  {
   "cell_type": "markdown",
   "metadata": {},
   "source": [
    "### Decide the significance level\n",
    "\n",
    "\n",
    "As given in the problem statement, we select α = 0.05."
   ]
  },
  {
   "cell_type": "markdown",
   "metadata": {},
   "source": [
    "### Collect and prepare data"
   ]
  },
  {
   "cell_type": "code",
   "execution_count": null,
   "metadata": {},
   "outputs": [],
   "source": [
    "# create a subsetted data frame of the time spent on the new page by English, French and Spanish language users \n",
    "English = new_landing_page[new_landing_page['language_preferred']==\"English\"]['time_spent_on_the_page']\n",
    "French = new_landing_page[new_landing_page['language_preferred']==\"French\"]['time_spent_on_the_page']\n",
    "Spanish = new_landing_page[new_landing_page['language_preferred']==\"Spanish\"]['time_spent_on_the_page']"
   ]
  },
  {
   "cell_type": "markdown",
   "metadata": {},
   "source": [
    "### Calculate the p-value\n",
    "\n",
    "The population samples satisfy the following conditions:\n",
    "\n",
    "* Population is normally distributed as seen from the Shapiro-Wilk's test\n",
    "* The populations have homogeneous variances \n",
    "* Samples are dependent, simple random samples\n",
    "\n",
    "Based on the qualities above, I will use **One-way ANOVA test**"
   ]
  },
  {
   "cell_type": "code",
   "execution_count": null,
   "metadata": {},
   "outputs": [],
   "source": [
    "# complete the code to import the required function\n",
    "from scipy.stats import f_oneway \n",
    "\n",
    "#Perform one-way anova test\n",
    "test_stat, p_value = f_oneway(English,French,Spanish)\n",
    "\n",
    "print('The p-value is {}\\n'.format(p_value))\n",
    "\n",
    "if p_value < 0.05:\n",
    "    print(f'As the p-value {p_value} is less than the level of significance, we reject the null hypothesis.')\n",
    "else:\n",
    "    print(f'As the p-value {p_value} is greater than the level of significance, we fail to reject the null hypothesis.')"
   ]
  },
  {
   "cell_type": "markdown",
   "metadata": {},
   "source": [
    "### Test the pairwise comparisons"
   ]
  },
  {
   "cell_type": "code",
   "execution_count": null,
   "metadata": {
    "scrolled": true
   },
   "outputs": [],
   "source": [
    "#import the required function\n",
    "\n",
    "from statsmodels.stats.multicomp import pairwise_tukeyhsd\n",
    "\n",
    "#Perform multiple pairwise comparison (Tukey HSD)\n",
    "\n",
    "m_comp=pairwise_tukeyhsd(endog=new_landing_page['time_spent_on_the_page'],groups=new_landing_page['language_preferred'], alpha=0.05)\n",
    "\n",
    "print(m_comp)"
   ]
  },
  {
   "cell_type": "markdown",
   "metadata": {},
   "source": [
    "**Observation:**\n",
    "\n",
    "* As the p-value is much grater than the level of significance, we fail to reject the null hypothesis that English, French and Spanish speakers all have the same mean time spent on the new page.\n",
    "\n",
    "* From the pairwise comparisons, it is clear that no pair falls in the rejection area\n",
    "    "
   ]
  },
  {
   "cell_type": "markdown",
   "metadata": {
    "id": "3acbc947"
   },
   "source": [
    "## Conclusion and Business Recommendations"
   ]
  },
  {
   "cell_type": "markdown",
   "metadata": {},
   "source": [
    "### Conclusion:\n",
    "\n",
    "* The mean time spent by the 100 users was 5.37780 minutes. The minimum time spent was 0.19000\t while the maximum was 10.71000, with a standard deviation of 2.37817\n",
    "\n",
    "* The treatment group spent the highest average time (6.22320) while control group spent an average of 4.53240 minutes\n",
    "\n",
    "* English language speakers spent the highest average time, 5.55906 minutes, followed by  Spanish at 5.33176 minutes and French at 5.25324 minutes. However, at 5% significance level, there is no enough evidence to conclude that conversion rate is not independent of the preferred language.\n",
    "\n",
    "* Also, at 5% significance level, we don't have enough evidence to reject the null hypotheses that time spent on the new page is the same for users of the different languages.\n",
    "\n",
    "* Converted users spent the highest average time (6.62315 minutes), while non-converted spent an average of 3.91587 minutes\n",
    "\n",
    "* In toltal, 54 users were converted, out of which English was 21/32, French 15/34, and Spanish 18/34.\n",
    "\n",
    "* Out of those who visited the new page, 33/50 were converted, while for the old page 29/50 were converted. The new page therefore had a higher conversion rate compared to the old page\n",
    "\n",
    "\n",
    "### Recommendations\n",
    "\n",
    "* The conversion rate from old to new landing page is higher than from new to old. \n",
    "* The company should therefore popularize the page more to get more users \n",
    "* Further investigations into why English users spent more time on the page should be done"
   ]
  },
  {
   "cell_type": "code",
   "execution_count": null,
   "metadata": {},
   "outputs": [],
   "source": []
  }
 ],
 "metadata": {
  "colab": {
   "collapsed_sections": [],
   "name": "ENews_Express_Learner_Notebook[Full Code Version].ipynb",
   "provenance": []
  },
  "kernelspec": {
   "display_name": "Python 3",
   "language": "python",
   "name": "python3"
  },
  "language_info": {
   "codemirror_mode": {
    "name": "ipython",
    "version": 3
   },
   "file_extension": ".py",
   "mimetype": "text/x-python",
   "name": "python",
   "nbconvert_exporter": "python",
   "pygments_lexer": "ipython3",
   "version": "3.8.5"
  }
 },
 "nbformat": 4,
 "nbformat_minor": 5
}
